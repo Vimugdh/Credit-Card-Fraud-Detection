{
 "cells": [
  {
   "cell_type": "markdown",
   "metadata": {},
   "source": [
    "# Machine Learning Engineer Nanodegree\n",
    "## Model Evaluation & Validation\n",
    "## Project: Credit Card Fraud Detection\n",
    "\n"
   ]
  },
  {
   "cell_type": "markdown",
   "metadata": {},
   "source": [
    "## Getting Started\n",
    "In this project, we will employ several supervised algorithms to accurately model fraudulent and normal credit card transactions. We will then choose the best candidate algorithm from preliminary results and further optimize this algorithm to best model the data. Our goal with this implementation is to construct a model that accurately predicts whether a transactions is normal or fraudulent. This sort of task can arise in almost every transaction that takes place everyday using credit cards. Understanding the patterns of a fraudulent transaction can help a bank or organization better differentiate between a legit and an illegal activity. \n",
    "\n",
    "The dataset that is being used in this project is the Credit Card Fraud Detection dataset uploaded by Andrea Dal Pozzolo in Kaggle. The dataset has been collected and analyzed during a research collaboration of Worldline and the Machine Learning Group (http://mlg.ulb.ac.be) of ULB (Université Libre de Bruxelles) on big data mining and fraud detection. More details on current and past projects on related topics are available on http://mlg.ulb.ac.be/BruFence and http://mlg.ulb.ac.be/ARTML [Citation: Andrea Dal Pozzolo, Olivier Caelen, Reid A. Johnson and Gianluca Bontempi. Calibrating Probability with Undersampling for Unbalanced Classification. In Symposium on Computational Intelligence and Data Mining (CIDM), IEEE, 2015]."
   ]
  },
  {
   "cell_type": "code",
   "execution_count": 16,
   "metadata": {
    "collapsed": false
   },
   "outputs": [
    {
     "name": "stdout",
     "output_type": "stream",
     "text": [
      "Wholesale customers dataset has 284807 samples with 31 features each.\n"
     ]
    }
   ],
   "source": [
    "# Import the libraries necessary for this project\n",
    "import pandas as pd\n",
    "import matplotlib.pyplot as plt\n",
    "import numpy as np\n",
    "\n",
    "# Pretty display for notebooks\n",
    "%matplotlib inline\n",
    "\n",
    "# Load the dataset\n",
    "try:\n",
    "    data = pd.read_csv(\"C:\\Users\\Vimugdh\\Downloads\\Datasets\\creditcardfraud\\creditcard.csv\")\n",
    "    print \"Wholesale customers dataset has {} samples with {} features each.\".format(*data.shape)\n",
    "except:\n",
    "    print \"Dataset could not be loaded. Is the dataset missing?\""
   ]
  },
  {
   "cell_type": "markdown",
   "metadata": {},
   "source": [
    "## Data Exploration\n"
   ]
  },
  {
   "cell_type": "code",
   "execution_count": 86,
   "metadata": {
    "collapsed": false
   },
   "outputs": [
    {
     "data": {
      "text/html": [
       "<div>\n",
       "<table border=\"1\" class=\"dataframe\">\n",
       "  <thead>\n",
       "    <tr style=\"text-align: right;\">\n",
       "      <th></th>\n",
       "      <th>Time</th>\n",
       "      <th>V1</th>\n",
       "      <th>V2</th>\n",
       "      <th>V3</th>\n",
       "      <th>V4</th>\n",
       "      <th>V5</th>\n",
       "      <th>V6</th>\n",
       "      <th>V7</th>\n",
       "      <th>V8</th>\n",
       "      <th>V9</th>\n",
       "      <th>...</th>\n",
       "      <th>V21</th>\n",
       "      <th>V22</th>\n",
       "      <th>V23</th>\n",
       "      <th>V24</th>\n",
       "      <th>V25</th>\n",
       "      <th>V26</th>\n",
       "      <th>V27</th>\n",
       "      <th>V28</th>\n",
       "      <th>Amount</th>\n",
       "      <th>Class</th>\n",
       "    </tr>\n",
       "  </thead>\n",
       "  <tbody>\n",
       "    <tr>\n",
       "      <th>0</th>\n",
       "      <td>0.0</td>\n",
       "      <td>-1.359807</td>\n",
       "      <td>-0.072781</td>\n",
       "      <td>2.536347</td>\n",
       "      <td>1.378155</td>\n",
       "      <td>-0.338321</td>\n",
       "      <td>0.462388</td>\n",
       "      <td>0.239599</td>\n",
       "      <td>0.098698</td>\n",
       "      <td>0.363787</td>\n",
       "      <td>...</td>\n",
       "      <td>-0.018307</td>\n",
       "      <td>0.277838</td>\n",
       "      <td>-0.110474</td>\n",
       "      <td>0.066928</td>\n",
       "      <td>0.128539</td>\n",
       "      <td>-0.189115</td>\n",
       "      <td>0.133558</td>\n",
       "      <td>-0.021053</td>\n",
       "      <td>149.62</td>\n",
       "      <td>0</td>\n",
       "    </tr>\n",
       "    <tr>\n",
       "      <th>1</th>\n",
       "      <td>0.0</td>\n",
       "      <td>1.191857</td>\n",
       "      <td>0.266151</td>\n",
       "      <td>0.166480</td>\n",
       "      <td>0.448154</td>\n",
       "      <td>0.060018</td>\n",
       "      <td>-0.082361</td>\n",
       "      <td>-0.078803</td>\n",
       "      <td>0.085102</td>\n",
       "      <td>-0.255425</td>\n",
       "      <td>...</td>\n",
       "      <td>-0.225775</td>\n",
       "      <td>-0.638672</td>\n",
       "      <td>0.101288</td>\n",
       "      <td>-0.339846</td>\n",
       "      <td>0.167170</td>\n",
       "      <td>0.125895</td>\n",
       "      <td>-0.008983</td>\n",
       "      <td>0.014724</td>\n",
       "      <td>2.69</td>\n",
       "      <td>0</td>\n",
       "    </tr>\n",
       "    <tr>\n",
       "      <th>2</th>\n",
       "      <td>1.0</td>\n",
       "      <td>-1.358354</td>\n",
       "      <td>-1.340163</td>\n",
       "      <td>1.773209</td>\n",
       "      <td>0.379780</td>\n",
       "      <td>-0.503198</td>\n",
       "      <td>1.800499</td>\n",
       "      <td>0.791461</td>\n",
       "      <td>0.247676</td>\n",
       "      <td>-1.514654</td>\n",
       "      <td>...</td>\n",
       "      <td>0.247998</td>\n",
       "      <td>0.771679</td>\n",
       "      <td>0.909412</td>\n",
       "      <td>-0.689281</td>\n",
       "      <td>-0.327642</td>\n",
       "      <td>-0.139097</td>\n",
       "      <td>-0.055353</td>\n",
       "      <td>-0.059752</td>\n",
       "      <td>378.66</td>\n",
       "      <td>0</td>\n",
       "    </tr>\n",
       "    <tr>\n",
       "      <th>3</th>\n",
       "      <td>1.0</td>\n",
       "      <td>-0.966272</td>\n",
       "      <td>-0.185226</td>\n",
       "      <td>1.792993</td>\n",
       "      <td>-0.863291</td>\n",
       "      <td>-0.010309</td>\n",
       "      <td>1.247203</td>\n",
       "      <td>0.237609</td>\n",
       "      <td>0.377436</td>\n",
       "      <td>-1.387024</td>\n",
       "      <td>...</td>\n",
       "      <td>-0.108300</td>\n",
       "      <td>0.005274</td>\n",
       "      <td>-0.190321</td>\n",
       "      <td>-1.175575</td>\n",
       "      <td>0.647376</td>\n",
       "      <td>-0.221929</td>\n",
       "      <td>0.062723</td>\n",
       "      <td>0.061458</td>\n",
       "      <td>123.50</td>\n",
       "      <td>0</td>\n",
       "    </tr>\n",
       "    <tr>\n",
       "      <th>4</th>\n",
       "      <td>2.0</td>\n",
       "      <td>-1.158233</td>\n",
       "      <td>0.877737</td>\n",
       "      <td>1.548718</td>\n",
       "      <td>0.403034</td>\n",
       "      <td>-0.407193</td>\n",
       "      <td>0.095921</td>\n",
       "      <td>0.592941</td>\n",
       "      <td>-0.270533</td>\n",
       "      <td>0.817739</td>\n",
       "      <td>...</td>\n",
       "      <td>-0.009431</td>\n",
       "      <td>0.798278</td>\n",
       "      <td>-0.137458</td>\n",
       "      <td>0.141267</td>\n",
       "      <td>-0.206010</td>\n",
       "      <td>0.502292</td>\n",
       "      <td>0.219422</td>\n",
       "      <td>0.215153</td>\n",
       "      <td>69.99</td>\n",
       "      <td>0</td>\n",
       "    </tr>\n",
       "  </tbody>\n",
       "</table>\n",
       "<p>5 rows × 31 columns</p>\n",
       "</div>"
      ],
      "text/plain": [
       "   Time        V1        V2        V3        V4        V5        V6        V7  \\\n",
       "0   0.0 -1.359807 -0.072781  2.536347  1.378155 -0.338321  0.462388  0.239599   \n",
       "1   0.0  1.191857  0.266151  0.166480  0.448154  0.060018 -0.082361 -0.078803   \n",
       "2   1.0 -1.358354 -1.340163  1.773209  0.379780 -0.503198  1.800499  0.791461   \n",
       "3   1.0 -0.966272 -0.185226  1.792993 -0.863291 -0.010309  1.247203  0.237609   \n",
       "4   2.0 -1.158233  0.877737  1.548718  0.403034 -0.407193  0.095921  0.592941   \n",
       "\n",
       "         V8        V9  ...         V21       V22       V23       V24  \\\n",
       "0  0.098698  0.363787  ...   -0.018307  0.277838 -0.110474  0.066928   \n",
       "1  0.085102 -0.255425  ...   -0.225775 -0.638672  0.101288 -0.339846   \n",
       "2  0.247676 -1.514654  ...    0.247998  0.771679  0.909412 -0.689281   \n",
       "3  0.377436 -1.387024  ...   -0.108300  0.005274 -0.190321 -1.175575   \n",
       "4 -0.270533  0.817739  ...   -0.009431  0.798278 -0.137458  0.141267   \n",
       "\n",
       "        V25       V26       V27       V28  Amount  Class  \n",
       "0  0.128539 -0.189115  0.133558 -0.021053  149.62      0  \n",
       "1  0.167170  0.125895 -0.008983  0.014724    2.69      0  \n",
       "2 -0.327642 -0.139097 -0.055353 -0.059752  378.66      0  \n",
       "3  0.647376 -0.221929  0.062723  0.061458  123.50      0  \n",
       "4 -0.206010  0.502292  0.219422  0.215153   69.99      0  \n",
       "\n",
       "[5 rows x 31 columns]"
      ]
     },
     "execution_count": 86,
     "metadata": {},
     "output_type": "execute_result"
    }
   ],
   "source": [
    "data.head()"
   ]
  },
  {
   "cell_type": "markdown",
   "metadata": {},
   "source": [
    "We can clearly see there are 31 columns with features `Time` shows the seconds elapsed between each transaction and the first transaction in the dataset, `V1` to `V28` are features that have been obtained through PCA and are anonimized due to confidentiality issues, `Amount` containing the transaction amount and `Class` which has has `0` for normal transactions or `1` for fraudulent ones."
   ]
  },
  {
   "cell_type": "code",
   "execution_count": 17,
   "metadata": {
    "collapsed": false
   },
   "outputs": [
    {
     "name": "stdout",
     "output_type": "stream",
     "text": [
      "Total number of records: 284807\n",
      "Number of records where transaction is normal: 284315\n",
      "Number of records where transaction is fraud: 492\n",
      "Percentage of fraudulent transactions: 0.17%\n"
     ]
    },
    {
     "data": {
      "text/plain": [
       "<matplotlib.text.Text at 0x11f91940>"
      ]
     },
     "execution_count": 17,
     "metadata": {},
     "output_type": "execute_result"
    },
    {
     "data": {
      "image/png": "[encoded data removed]",
      "text/plain": [
       "<matplotlib.figure.Figure at 0x11f6b940>"
      ]
     },
     "metadata": {},
     "output_type": "display_data"
    }
   ],
   "source": [
    "# Total number of records\n",
    "n_records = len(data)\n",
    "\n",
    "# Number of records where transaction is normal\n",
    "n_normal = len(data[data.Class == 0])\n",
    "\n",
    "# Number of records where transaction is fraud\n",
    "n_fraud = len(data[data.Class == 1])\n",
    "\n",
    "# Percentage of fraudulent transactions\n",
    "fraud_percent = (n_fraud / float(n_records))* 100\n",
    "\n",
    "# Print the results\n",
    "print \"Total number of records: {}\".format(n_records)\n",
    "print \"Number of records where transaction is normal: {}\".format(n_normal)\n",
    "print \"Number of records where transaction is fraud: {}\".format(n_fraud)\n",
    "print \"Percentage of fraudulent transactions: {:.2f}%\".format(fraud_percent)\n",
    "\n",
    "#Obtaining visual representation of the Classes\n",
    "n_classes = pd.value_counts(data['Class'], sort = True).sort_index()\n",
    "n_classes.plot(kind = 'bar')\n",
    "plt.title(\"Class distribution histogram\")\n",
    "plt.xlabel(\"Class\")\n",
    "plt.ylabel(\"Frequency\")"
   ]
  },
  {
   "cell_type": "markdown",
   "metadata": {},
   "source": [
    "As we can see from the results the fraudulent transactions form **only 0.17% of the entire dataset** and thus, the dataset is **HIGHLY UNBALANCED!!** \n",
    "*This is a clear case where we **cannot** use Accuracy as the evaluation metric because even if we wrongly predict a Fraud transaction to be Normal, we shall still have an accuracy of more than 99%!!* We can adopt several ways of dealing with this:\n",
    "- *Collect more data!* Collecting more data for the fraudulent transactions will lessen the imbalance but unfortunately, this isn't possible in this case as more of this data isn't available.\n",
    "- *Changing the Evaluation Metric.* Using some other metric such as Precision, Recall or F-score. \n",
    "- *Resampling*: It is a technique that essentially will process the data to have an approximate 50-50 ratio. In this case, we shall use Undersampling, which deletes instances from the over-represented class."
   ]
  },
  {
   "cell_type": "markdown",
   "metadata": {},
   "source": [
    "Let's see how `Time` compares across fraudulent and normal transactions."
   ]
  },
  {
   "cell_type": "code",
   "execution_count": 18,
   "metadata": {
    "collapsed": false
   },
   "outputs": [
    {
     "name": "stdout",
     "output_type": "stream",
     "text": [
      "Fraud\n",
      "count       492.000000\n",
      "mean      80746.806911\n",
      "std       47835.365138\n",
      "min         406.000000\n",
      "25%       41241.500000\n",
      "50%       75568.500000\n",
      "75%      128483.000000\n",
      "max      170348.000000\n",
      "Name: Time, dtype: float64\n",
      "()\n",
      "Normal\n",
      "count    284315.000000\n",
      "mean      94838.202258\n",
      "std       47484.015786\n",
      "min           0.000000\n",
      "25%       54230.000000\n",
      "50%       84711.000000\n",
      "75%      139333.000000\n",
      "max      172792.000000\n",
      "Name: Time, dtype: float64\n"
     ]
    },
    {
     "data": {
      "image/png": "[encoded data removed]",
      "text/plain": [
       "<matplotlib.figure.Figure at 0x1206bfd0>"
      ]
     },
     "metadata": {},
     "output_type": "display_data"
    }
   ],
   "source": [
    "# Compare Time between Fraud and Normal transactions\n",
    "print (\"Fraud\")\n",
    "print (data.Time[data.Class == 1].describe())\n",
    "print ()\n",
    "print (\"Normal\")\n",
    "print (data.Time[data.Class == 0].describe())\n",
    "\n",
    "# Print visualization\n",
    "f, (ax1, ax2) = plt.subplots(2, 1, sharex=True, figsize=(12,4))\n",
    "\n",
    "bins = 50\n",
    "\n",
    "ax1.hist(data.Time[data.Class == 1], bins = bins)\n",
    "ax1.set_title('Fraud')\n",
    "\n",
    "ax2.hist(data.Time[data.Class == 0], bins = bins)\n",
    "ax2.set_title('Normal')\n",
    "\n",
    "plt.xlabel('Time (in Seconds)')\n",
    "plt.ylabel('Number of Transactions')\n",
    "plt.show()"
   ]
  },
  {
   "cell_type": "markdown",
   "metadata": {},
   "source": [
    "Here, we can see that the Fraud transactions are more uniformly distributed than Normal transactions which have a more cyclic distribution. \n",
    "\n",
    "Now lets compare the transaction amount between the two Classes."
   ]
  },
  {
   "cell_type": "code",
   "execution_count": 19,
   "metadata": {
    "collapsed": false
   },
   "outputs": [
    {
     "name": "stdout",
     "output_type": "stream",
     "text": [
      "Fraud\n",
      "count     492.000000\n",
      "mean      122.211321\n",
      "std       256.683288\n",
      "min         0.000000\n",
      "25%         1.000000\n",
      "50%         9.250000\n",
      "75%       105.890000\n",
      "max      2125.870000\n",
      "Name: Amount, dtype: float64\n",
      "()\n",
      "Normal\n",
      "count    284315.000000\n",
      "mean         88.291022\n",
      "std         250.105092\n",
      "min           0.000000\n",
      "25%           5.650000\n",
      "50%          22.000000\n",
      "75%          77.050000\n",
      "max       25691.160000\n",
      "Name: Amount, dtype: float64\n"
     ]
    },
    {
     "data": {
      "image/png": "[encoded data removed]",
      "text/plain": [
       "<matplotlib.figure.Figure at 0x106d2828>"
      ]
     },
     "metadata": {},
     "output_type": "display_data"
    }
   ],
   "source": [
    "# Compare Time between Fraud and Normal transactions\n",
    "print (\"Fraud\")\n",
    "print (data.Amount[data.Class == 1].describe())\n",
    "print ()\n",
    "print (\"Normal\")\n",
    "print (data.Amount[data.Class == 0].describe())\n",
    "\n",
    "# Print visualization\n",
    "f, (ax1, ax2) = plt.subplots(2, 1, sharex=True, figsize=(12,4))\n",
    "\n",
    "bins = 30\n",
    "\n",
    "ax1.hist(data.Amount[data.Class == 1], bins = bins)\n",
    "ax1.set_title('Fraud')\n",
    "\n",
    "ax2.hist(data.Amount[data.Class == 0], bins = bins)\n",
    "ax2.set_title('Normal')\n",
    "\n",
    "plt.xlabel('Amount ($)')\n",
    "plt.ylabel('Number of Transactions')\n",
    "plt.yscale('log')\n",
    "plt.show()"
   ]
  },
  {
   "cell_type": "markdown",
   "metadata": {
    "collapsed": true
   },
   "source": [
    "As we can clearly see, the Fraud transactions are of very small quantities compared to Normal transactions. The maximum Fraud transaction is just `$`2125.87 when compared to the maximum Normal transaction of `$`25691.16. Also, as visible from the histogram, less than a 100 fraud transactions have maximum values as compared to the far greater number of normal transactions (>10^3) which have large transaction values."
   ]
  },
  {
   "cell_type": "markdown",
   "metadata": {},
   "source": [
    "## Data Preprocessing"
   ]
  },
  {
   "cell_type": "markdown",
   "metadata": {},
   "source": [
    "**Normalizing `Amount` feature to get it in line with the anonimized features.** "
   ]
  },
  {
   "cell_type": "code",
   "execution_count": 20,
   "metadata": {
    "collapsed": false
   },
   "outputs": [
    {
     "data": {
      "text/html": [
       "<div>\n",
       "<table border=\"1\" class=\"dataframe\">\n",
       "  <thead>\n",
       "    <tr style=\"text-align: right;\">\n",
       "      <th></th>\n",
       "      <th>V1</th>\n",
       "      <th>V2</th>\n",
       "      <th>V3</th>\n",
       "      <th>V4</th>\n",
       "      <th>V5</th>\n",
       "      <th>V6</th>\n",
       "      <th>V7</th>\n",
       "      <th>V8</th>\n",
       "      <th>V9</th>\n",
       "      <th>V10</th>\n",
       "      <th>...</th>\n",
       "      <th>V21</th>\n",
       "      <th>V22</th>\n",
       "      <th>V23</th>\n",
       "      <th>V24</th>\n",
       "      <th>V25</th>\n",
       "      <th>V26</th>\n",
       "      <th>V27</th>\n",
       "      <th>V28</th>\n",
       "      <th>Class</th>\n",
       "      <th>Normalized_Amount</th>\n",
       "    </tr>\n",
       "  </thead>\n",
       "  <tbody>\n",
       "    <tr>\n",
       "      <th>0</th>\n",
       "      <td>-1.359807</td>\n",
       "      <td>-0.072781</td>\n",
       "      <td>2.536347</td>\n",
       "      <td>1.378155</td>\n",
       "      <td>-0.338321</td>\n",
       "      <td>0.462388</td>\n",
       "      <td>0.239599</td>\n",
       "      <td>0.098698</td>\n",
       "      <td>0.363787</td>\n",
       "      <td>0.090794</td>\n",
       "      <td>...</td>\n",
       "      <td>-0.018307</td>\n",
       "      <td>0.277838</td>\n",
       "      <td>-0.110474</td>\n",
       "      <td>0.066928</td>\n",
       "      <td>0.128539</td>\n",
       "      <td>-0.189115</td>\n",
       "      <td>0.133558</td>\n",
       "      <td>-0.021053</td>\n",
       "      <td>0</td>\n",
       "      <td>0.244964</td>\n",
       "    </tr>\n",
       "    <tr>\n",
       "      <th>1</th>\n",
       "      <td>1.191857</td>\n",
       "      <td>0.266151</td>\n",
       "      <td>0.166480</td>\n",
       "      <td>0.448154</td>\n",
       "      <td>0.060018</td>\n",
       "      <td>-0.082361</td>\n",
       "      <td>-0.078803</td>\n",
       "      <td>0.085102</td>\n",
       "      <td>-0.255425</td>\n",
       "      <td>-0.166974</td>\n",
       "      <td>...</td>\n",
       "      <td>-0.225775</td>\n",
       "      <td>-0.638672</td>\n",
       "      <td>0.101288</td>\n",
       "      <td>-0.339846</td>\n",
       "      <td>0.167170</td>\n",
       "      <td>0.125895</td>\n",
       "      <td>-0.008983</td>\n",
       "      <td>0.014724</td>\n",
       "      <td>0</td>\n",
       "      <td>-0.342475</td>\n",
       "    </tr>\n",
       "    <tr>\n",
       "      <th>2</th>\n",
       "      <td>-1.358354</td>\n",
       "      <td>-1.340163</td>\n",
       "      <td>1.773209</td>\n",
       "      <td>0.379780</td>\n",
       "      <td>-0.503198</td>\n",
       "      <td>1.800499</td>\n",
       "      <td>0.791461</td>\n",
       "      <td>0.247676</td>\n",
       "      <td>-1.514654</td>\n",
       "      <td>0.207643</td>\n",
       "      <td>...</td>\n",
       "      <td>0.247998</td>\n",
       "      <td>0.771679</td>\n",
       "      <td>0.909412</td>\n",
       "      <td>-0.689281</td>\n",
       "      <td>-0.327642</td>\n",
       "      <td>-0.139097</td>\n",
       "      <td>-0.055353</td>\n",
       "      <td>-0.059752</td>\n",
       "      <td>0</td>\n",
       "      <td>1.160686</td>\n",
       "    </tr>\n",
       "    <tr>\n",
       "      <th>3</th>\n",
       "      <td>-0.966272</td>\n",
       "      <td>-0.185226</td>\n",
       "      <td>1.792993</td>\n",
       "      <td>-0.863291</td>\n",
       "      <td>-0.010309</td>\n",
       "      <td>1.247203</td>\n",
       "      <td>0.237609</td>\n",
       "      <td>0.377436</td>\n",
       "      <td>-1.387024</td>\n",
       "      <td>-0.054952</td>\n",
       "      <td>...</td>\n",
       "      <td>-0.108300</td>\n",
       "      <td>0.005274</td>\n",
       "      <td>-0.190321</td>\n",
       "      <td>-1.175575</td>\n",
       "      <td>0.647376</td>\n",
       "      <td>-0.221929</td>\n",
       "      <td>0.062723</td>\n",
       "      <td>0.061458</td>\n",
       "      <td>0</td>\n",
       "      <td>0.140534</td>\n",
       "    </tr>\n",
       "    <tr>\n",
       "      <th>4</th>\n",
       "      <td>-1.158233</td>\n",
       "      <td>0.877737</td>\n",
       "      <td>1.548718</td>\n",
       "      <td>0.403034</td>\n",
       "      <td>-0.407193</td>\n",
       "      <td>0.095921</td>\n",
       "      <td>0.592941</td>\n",
       "      <td>-0.270533</td>\n",
       "      <td>0.817739</td>\n",
       "      <td>0.753074</td>\n",
       "      <td>...</td>\n",
       "      <td>-0.009431</td>\n",
       "      <td>0.798278</td>\n",
       "      <td>-0.137458</td>\n",
       "      <td>0.141267</td>\n",
       "      <td>-0.206010</td>\n",
       "      <td>0.502292</td>\n",
       "      <td>0.219422</td>\n",
       "      <td>0.215153</td>\n",
       "      <td>0</td>\n",
       "      <td>-0.073403</td>\n",
       "    </tr>\n",
       "  </tbody>\n",
       "</table>\n",
       "<p>5 rows × 30 columns</p>\n",
       "</div>"
      ],
      "text/plain": [
       "         V1        V2        V3        V4        V5        V6        V7  \\\n",
       "0 -1.359807 -0.072781  2.536347  1.378155 -0.338321  0.462388  0.239599   \n",
       "1  1.191857  0.266151  0.166480  0.448154  0.060018 -0.082361 -0.078803   \n",
       "2 -1.358354 -1.340163  1.773209  0.379780 -0.503198  1.800499  0.791461   \n",
       "3 -0.966272 -0.185226  1.792993 -0.863291 -0.010309  1.247203  0.237609   \n",
       "4 -1.158233  0.877737  1.548718  0.403034 -0.407193  0.095921  0.592941   \n",
       "\n",
       "         V8        V9       V10        ...               V21       V22  \\\n",
       "0  0.098698  0.363787  0.090794        ...         -0.018307  0.277838   \n",
       "1  0.085102 -0.255425 -0.166974        ...         -0.225775 -0.638672   \n",
       "2  0.247676 -1.514654  0.207643        ...          0.247998  0.771679   \n",
       "3  0.377436 -1.387024 -0.054952        ...         -0.108300  0.005274   \n",
       "4 -0.270533  0.817739  0.753074        ...         -0.009431  0.798278   \n",
       "\n",
       "        V23       V24       V25       V26       V27       V28  Class  \\\n",
       "0 -0.110474  0.066928  0.128539 -0.189115  0.133558 -0.021053      0   \n",
       "1  0.101288 -0.339846  0.167170  0.125895 -0.008983  0.014724      0   \n",
       "2  0.909412 -0.689281 -0.327642 -0.139097 -0.055353 -0.059752      0   \n",
       "3 -0.190321 -1.175575  0.647376 -0.221929  0.062723  0.061458      0   \n",
       "4 -0.137458  0.141267 -0.206010  0.502292  0.219422  0.215153      0   \n",
       "\n",
       "   Normalized_Amount  \n",
       "0           0.244964  \n",
       "1          -0.342475  \n",
       "2           1.160686  \n",
       "3           0.140534  \n",
       "4          -0.073403  \n",
       "\n",
       "[5 rows x 30 columns]"
      ]
     },
     "execution_count": 20,
     "metadata": {},
     "output_type": "execute_result"
    }
   ],
   "source": [
    "from sklearn.preprocessing import StandardScaler\n",
    "\n",
    "data['Normalized_Amount'] = StandardScaler().fit_transform(data['Amount'].reshape(-1, 1))\n",
    "data = data.drop(['Time','Amount'],axis=1)\n",
    "data.head()"
   ]
  },
  {
   "cell_type": "markdown",
   "metadata": {},
   "source": [
    "**Assigning X and Y without Undersampling.**"
   ]
  },
  {
   "cell_type": "code",
   "execution_count": 21,
   "metadata": {
    "collapsed": true
   },
   "outputs": [],
   "source": [
    "X = data.ix[:, data.columns != 'Class']\n",
    "y = data.ix[:, data.columns == 'Class']"
   ]
  },
  {
   "cell_type": "markdown",
   "metadata": {},
   "source": [
    "**Random Undersampling**\n",
    "\n",
    "Here we shall randomly choose samples from the over-represented (Normal) class and remove them until the number of samples in it becomes equal to the number of samples in the previously under-represented (Fraud) class."
   ]
  },
  {
   "cell_type": "code",
   "execution_count": 82,
   "metadata": {
    "collapsed": false
   },
   "outputs": [
    {
     "name": "stdout",
     "output_type": "stream",
     "text": [
      "Percentage of normal transactions: 50.00%\n",
      "Percentage of fraudulent transactions: 50.00%\n",
      "Total number of transactions in resampled data: 984.00\n"
     ]
    }
   ],
   "source": [
    "# Picking the indices of the fraud class\n",
    "fraud_indices = np.array(data[data.Class == 1].index)\n",
    "\n",
    "# Picking the indices of the normal class\n",
    "normal_indices = data[data.Class == 0].index\n",
    "\n",
    "# Out of the indices we picked, randomly select \"x\" number (n_fraud)\n",
    "random_normal_indices = np.random.choice(normal_indices, n_fraud, replace = False)\n",
    "random_normal_indices = np.array(random_normal_indices)\n",
    "\n",
    "# Appending the 2 indices\n",
    "undersample_indices = np.concatenate([fraud_indices, random_normal_indices])\n",
    "\n",
    "# Under sample dataset\n",
    "undersample_data = data.iloc[undersample_indices,:]\n",
    "\n",
    "X_undersample = undersample_data.ix[:, undersample_data.columns != 'Class']\n",
    "y_undersample = undersample_data.ix[:, undersample_data.columns == 'Class']\n",
    "\n",
    "# Number of records where transaction is normal\n",
    "n_normal = len(undersample_data[undersample_data.Class == 0])\n",
    "\n",
    "# Number of records where transaction is fraud\n",
    "n_fraud = len(undersample_data[undersample_data.Class == 1])\n",
    "\n",
    "# Percentage of fraudelent transactions\n",
    "fraud_percent = (n_fraud / float(len(undersample_data)))* 100\n",
    "\n",
    "# Percentage of normal transactions\n",
    "normal_percent = (n_normal / float(len(undersample_data)))* 100\n",
    "\n",
    "# Showing ratio\n",
    "print \"Percentage of normal transactions: {:.2f}%\".format(normal_percent)\n",
    "print \"Percentage of fraudulent transactions: {:.2f}%\".format(fraud_percent)\n",
    "print \"Total number of transactions in resampled data: {:.2f}\".format(len(undersample_data))"
   ]
  },
  {
   "cell_type": "markdown",
   "metadata": {},
   "source": [
    "** Exploring the Undersampled dataset. ** "
   ]
  },
  {
   "cell_type": "code",
   "execution_count": 88,
   "metadata": {
    "collapsed": false
   },
   "outputs": [
    {
     "name": "stdout",
     "output_type": "stream",
     "text": [
      "Total number of records: 984\n",
      "Number of records where transaction is normal: 492\n",
      "Number of records where transaction is fraud: 492\n",
      "Percentage of fraudulent transactions: 50.00%\n"
     ]
    },
    {
     "name": "stderr",
     "output_type": "stream",
     "text": [
      "C:\\Program Files\\Anaconda2\\lib\\site-packages\\ipykernel\\__main__.py:5: UserWarning: Boolean Series key will be reindexed to match DataFrame index.\n",
      "C:\\Program Files\\Anaconda2\\lib\\site-packages\\ipykernel\\__main__.py:8: UserWarning: Boolean Series key will be reindexed to match DataFrame index.\n"
     ]
    },
    {
     "data": {
      "text/plain": [
       "<matplotlib.text.Text at 0x21551cc0>"
      ]
     },
     "execution_count": 88,
     "metadata": {},
     "output_type": "execute_result"
    },
    {
     "data": {
      "image/png": "[encoded data removed]",
      "text/plain": [
       "<matplotlib.figure.Figure at 0x236362e8>"
      ]
     },
     "metadata": {},
     "output_type": "display_data"
    }
   ],
   "source": [
    "# Total number of records\n",
    "n_undersample_records = len(undersample_data)\n",
    "\n",
    "# Number of records where transaction is normal\n",
    "n_undersample_normal = len(undersample_data[data.Class == 0])\n",
    "\n",
    "# Number of records where transaction is fraud\n",
    "n_undersample_fraud = len(undersample_data[data.Class == 1])\n",
    "\n",
    "# Percentage of fraudulent transactions\n",
    "undersample_fraud_percent = (n_undersample_fraud / float(n_undersample_records))* 100\n",
    "\n",
    "# Print the results\n",
    "print \"Total number of records: {}\".format(n_undersample_records)\n",
    "print \"Number of records where transaction is normal: {}\".format(n_undersample_normal)\n",
    "print \"Number of records where transaction is fraud: {}\".format(n_undersample_fraud)\n",
    "print \"Percentage of fraudulent transactions: {:.2f}%\".format(undersample_fraud_percent)\n",
    "\n",
    "#Obtaining visual representation of the Classes\n",
    "n_classes = pd.value_counts(undersample_data['Class'], sort = True).sort_index()\n",
    "n_classes.plot(kind = 'bar')\n",
    "plt.title(\"Class distribution histogram\")\n",
    "plt.xlabel(\"Class\")\n",
    "plt.ylabel(\"Frequency\")"
   ]
  },
  {
   "cell_type": "code",
   "execution_count": 83,
   "metadata": {
    "collapsed": false
   },
   "outputs": [
    {
     "data": {
      "text/html": [
       "<div>\n",
       "<table border=\"1\" class=\"dataframe\">\n",
       "  <thead>\n",
       "    <tr style=\"text-align: right;\">\n",
       "      <th></th>\n",
       "      <th>V1</th>\n",
       "      <th>V2</th>\n",
       "      <th>V3</th>\n",
       "      <th>V4</th>\n",
       "      <th>V5</th>\n",
       "      <th>V6</th>\n",
       "      <th>V7</th>\n",
       "      <th>V8</th>\n",
       "      <th>V9</th>\n",
       "      <th>V10</th>\n",
       "      <th>...</th>\n",
       "      <th>V21</th>\n",
       "      <th>V22</th>\n",
       "      <th>V23</th>\n",
       "      <th>V24</th>\n",
       "      <th>V25</th>\n",
       "      <th>V26</th>\n",
       "      <th>V27</th>\n",
       "      <th>V28</th>\n",
       "      <th>Class</th>\n",
       "      <th>Normalized_Amount</th>\n",
       "    </tr>\n",
       "  </thead>\n",
       "  <tbody>\n",
       "    <tr>\n",
       "      <th>541</th>\n",
       "      <td>-2.312227</td>\n",
       "      <td>1.951992</td>\n",
       "      <td>-1.609851</td>\n",
       "      <td>3.997906</td>\n",
       "      <td>-0.522188</td>\n",
       "      <td>-1.426545</td>\n",
       "      <td>-2.537387</td>\n",
       "      <td>1.391657</td>\n",
       "      <td>-2.770089</td>\n",
       "      <td>-2.772272</td>\n",
       "      <td>...</td>\n",
       "      <td>0.517232</td>\n",
       "      <td>-0.035049</td>\n",
       "      <td>-0.465211</td>\n",
       "      <td>0.320198</td>\n",
       "      <td>0.044519</td>\n",
       "      <td>0.177840</td>\n",
       "      <td>0.261145</td>\n",
       "      <td>-0.143276</td>\n",
       "      <td>1</td>\n",
       "      <td>-0.353229</td>\n",
       "    </tr>\n",
       "    <tr>\n",
       "      <th>623</th>\n",
       "      <td>-3.043541</td>\n",
       "      <td>-3.157307</td>\n",
       "      <td>1.088463</td>\n",
       "      <td>2.288644</td>\n",
       "      <td>1.359805</td>\n",
       "      <td>-1.064823</td>\n",
       "      <td>0.325574</td>\n",
       "      <td>-0.067794</td>\n",
       "      <td>-0.270953</td>\n",
       "      <td>-0.838587</td>\n",
       "      <td>...</td>\n",
       "      <td>0.661696</td>\n",
       "      <td>0.435477</td>\n",
       "      <td>1.375966</td>\n",
       "      <td>-0.293803</td>\n",
       "      <td>0.279798</td>\n",
       "      <td>-0.145362</td>\n",
       "      <td>-0.252773</td>\n",
       "      <td>0.035764</td>\n",
       "      <td>1</td>\n",
       "      <td>1.761758</td>\n",
       "    </tr>\n",
       "    <tr>\n",
       "      <th>4920</th>\n",
       "      <td>-2.303350</td>\n",
       "      <td>1.759247</td>\n",
       "      <td>-0.359745</td>\n",
       "      <td>2.330243</td>\n",
       "      <td>-0.821628</td>\n",
       "      <td>-0.075788</td>\n",
       "      <td>0.562320</td>\n",
       "      <td>-0.399147</td>\n",
       "      <td>-0.238253</td>\n",
       "      <td>-1.525412</td>\n",
       "      <td>...</td>\n",
       "      <td>-0.294166</td>\n",
       "      <td>-0.932391</td>\n",
       "      <td>0.172726</td>\n",
       "      <td>-0.087330</td>\n",
       "      <td>-0.156114</td>\n",
       "      <td>-0.542628</td>\n",
       "      <td>0.039566</td>\n",
       "      <td>-0.153029</td>\n",
       "      <td>1</td>\n",
       "      <td>0.606031</td>\n",
       "    </tr>\n",
       "    <tr>\n",
       "      <th>6108</th>\n",
       "      <td>-4.397974</td>\n",
       "      <td>1.358367</td>\n",
       "      <td>-2.592844</td>\n",
       "      <td>2.679787</td>\n",
       "      <td>-1.128131</td>\n",
       "      <td>-1.706536</td>\n",
       "      <td>-3.496197</td>\n",
       "      <td>-0.248778</td>\n",
       "      <td>-0.247768</td>\n",
       "      <td>-4.801637</td>\n",
       "      <td>...</td>\n",
       "      <td>0.573574</td>\n",
       "      <td>0.176968</td>\n",
       "      <td>-0.436207</td>\n",
       "      <td>-0.053502</td>\n",
       "      <td>0.252405</td>\n",
       "      <td>-0.657488</td>\n",
       "      <td>-0.827136</td>\n",
       "      <td>0.849573</td>\n",
       "      <td>1</td>\n",
       "      <td>-0.117342</td>\n",
       "    </tr>\n",
       "    <tr>\n",
       "      <th>6329</th>\n",
       "      <td>1.234235</td>\n",
       "      <td>3.019740</td>\n",
       "      <td>-4.304597</td>\n",
       "      <td>4.732795</td>\n",
       "      <td>3.624201</td>\n",
       "      <td>-1.357746</td>\n",
       "      <td>1.713445</td>\n",
       "      <td>-0.496358</td>\n",
       "      <td>-1.282858</td>\n",
       "      <td>-2.447469</td>\n",
       "      <td>...</td>\n",
       "      <td>-0.379068</td>\n",
       "      <td>-0.704181</td>\n",
       "      <td>-0.656805</td>\n",
       "      <td>-1.632653</td>\n",
       "      <td>1.488901</td>\n",
       "      <td>0.566797</td>\n",
       "      <td>-0.010016</td>\n",
       "      <td>0.146793</td>\n",
       "      <td>1</td>\n",
       "      <td>-0.349231</td>\n",
       "    </tr>\n",
       "  </tbody>\n",
       "</table>\n",
       "<p>5 rows × 30 columns</p>\n",
       "</div>"
      ],
      "text/plain": [
       "            V1        V2        V3        V4        V5        V6        V7  \\\n",
       "541  -2.312227  1.951992 -1.609851  3.997906 -0.522188 -1.426545 -2.537387   \n",
       "623  -3.043541 -3.157307  1.088463  2.288644  1.359805 -1.064823  0.325574   \n",
       "4920 -2.303350  1.759247 -0.359745  2.330243 -0.821628 -0.075788  0.562320   \n",
       "6108 -4.397974  1.358367 -2.592844  2.679787 -1.128131 -1.706536 -3.496197   \n",
       "6329  1.234235  3.019740 -4.304597  4.732795  3.624201 -1.357746  1.713445   \n",
       "\n",
       "            V8        V9       V10        ...               V21       V22  \\\n",
       "541   1.391657 -2.770089 -2.772272        ...          0.517232 -0.035049   \n",
       "623  -0.067794 -0.270953 -0.838587        ...          0.661696  0.435477   \n",
       "4920 -0.399147 -0.238253 -1.525412        ...         -0.294166 -0.932391   \n",
       "6108 -0.248778 -0.247768 -4.801637        ...          0.573574  0.176968   \n",
       "6329 -0.496358 -1.282858 -2.447469        ...         -0.379068 -0.704181   \n",
       "\n",
       "           V23       V24       V25       V26       V27       V28  Class  \\\n",
       "541  -0.465211  0.320198  0.044519  0.177840  0.261145 -0.143276      1   \n",
       "623   1.375966 -0.293803  0.279798 -0.145362 -0.252773  0.035764      1   \n",
       "4920  0.172726 -0.087330 -0.156114 -0.542628  0.039566 -0.153029      1   \n",
       "6108 -0.436207 -0.053502  0.252405 -0.657488 -0.827136  0.849573      1   \n",
       "6329 -0.656805 -1.632653  1.488901  0.566797 -0.010016  0.146793      1   \n",
       "\n",
       "      Normalized_Amount  \n",
       "541           -0.353229  \n",
       "623            1.761758  \n",
       "4920           0.606031  \n",
       "6108          -0.117342  \n",
       "6329          -0.349231  \n",
       "\n",
       "[5 rows x 30 columns]"
      ]
     },
     "execution_count": 83,
     "metadata": {},
     "output_type": "execute_result"
    }
   ],
   "source": [
    "undersample_data.head()"
   ]
  },
  {
   "cell_type": "markdown",
   "metadata": {},
   "source": [
    "**Splitting into Test-Train splits for Cross-Validation.**"
   ]
  },
  {
   "cell_type": "code",
   "execution_count": 46,
   "metadata": {
    "collapsed": false
   },
   "outputs": [
    {
     "name": "stdout",
     "output_type": "stream",
     "text": [
      "Number transactions train dataset:  199364\n",
      "Number transactions test dataset:  85443\n",
      "Total number of transactions:  284807\n",
      "\n",
      "Number transactions train dataset:  688\n",
      "Number transactions test dataset:  296\n",
      "Total number of transactions:  984\n"
     ]
    }
   ],
   "source": [
    "from sklearn.cross_validation import train_test_split\n",
    "\n",
    "# Whole dataset\n",
    "X_train, X_test, y_train, y_test = train_test_split(X,y,test_size = 0.3, random_state = 0)\n",
    "\n",
    "print \"Number transactions train dataset: \", len(X_train)\n",
    "print \"Number transactions test dataset: \", len(X_test)\n",
    "print \"Total number of transactions: \", len(X_train)+len(X_test)\n",
    "\n",
    "# Undersampled dataset\n",
    "X_train_undersample, X_test_undersample, y_train_undersample, y_test_undersample = train_test_split(X_undersample\n",
    "                                                                                                   ,y_undersample\n",
    "                                                                                                   ,test_size = 0.3\n",
    "                                                                                                   ,random_state = 43)\n",
    "print \"\" \n",
    "print \"Number transactions train dataset: \", len(X_train_undersample)\n",
    "print \"Number transactions test dataset: \", len(X_test_undersample)\n",
    "print \"Total number of transactions: \", len(X_train_undersample)+len(X_test_undersample)"
   ]
  },
  {
   "cell_type": "markdown",
   "metadata": {},
   "source": [
    "**Now we shall implement two classifier algorithms LinearSVC(), which specializes in < 100K data and hence should perform better on the undersampled set and SGDClassifier(), which is better for > 100K data and hence should perform better on the raw dataset.**"
   ]
  },
  {
   "cell_type": "markdown",
   "metadata": {
    "collapsed": true
   },
   "source": [
    " ## Implementation (LinearSVC) - Training and Testing models on Undersampled data"
   ]
  },
  {
   "cell_type": "code",
   "execution_count": 25,
   "metadata": {
    "collapsed": false
   },
   "outputs": [],
   "source": [
    "from sklearn.svm import LinearSVC\n",
    "from sklearn.cross_validation import KFold, cross_val_score\n",
    "from sklearn.metrics import confusion_matrix, auc, roc_auc_score, roc_curve, recall_score, classification_report "
   ]
  },
  {
   "cell_type": "markdown",
   "metadata": {
    "collapsed": true
   },
   "source": [
    "**Writing a function to print K-fold scores to get the best C parameter to implement the LinearSVC model.**"
   ]
  },
  {
   "cell_type": "code",
   "execution_count": 68,
   "metadata": {
    "collapsed": false
   },
   "outputs": [],
   "source": [
    "def printing_Kfold_scores(x_train_data, y_train_data):\n",
    "    fold = KFold(len(y_train_data), 5, shuffle = False) \n",
    "\n",
    "    # Different C parameters\n",
    "    c_param_range = [0.01, 0.1, 1, 10, 100]\n",
    "\n",
    "    results_table = pd.DataFrame(index = range(len(c_param_range),3), columns = ['C_parameter', 'Mean recall score'])\n",
    "    results_table['C_parameter'] = c_param_range\n",
    "\n",
    "    # the k-fold will give 2 lists: train_indices = indices[0], test_indices = indices[1]\n",
    "    j = 0\n",
    "    for c_param in c_param_range:\n",
    "        print '-------------------------------------------'\n",
    "        print 'C parameter: ', c_param\n",
    "        print '-------------------------------------------'\n",
    "        print ''\n",
    "\n",
    "        recall_accs = []\n",
    "        for iteration, indices in enumerate(fold,start=1):\n",
    "\n",
    "            # Call the linear SVC model with a certain C parameter\n",
    "            svc = LinearSVC(C = c_param, penalty = 'l2', dual = False, random_state = 43)\n",
    "\n",
    "            # Use the training data to fit the model. In this case, we use the portion of the fold to train the model\n",
    "            # with indices[0]. We then predict on the portion assigned as the 'test cross validation' with indices[1]\n",
    "            svc.fit(x_train_data.iloc[indices[0],:],y_train_data.iloc[indices[0],:].values.ravel())\n",
    "\n",
    "            # Predict values using the test indices in the training data\n",
    "            y_pred_undersample = svc.predict(x_train_data.iloc[indices[1],:].values)\n",
    "\n",
    "            # Calculate the recall score and append it to a list for recall scores representing the current c_parameter\n",
    "            recall_acc = recall_score(y_train_data.iloc[indices[1],:].values,y_pred_undersample)\n",
    "            recall_accs.append(recall_acc)\n",
    "            print('Iteration ', iteration,': recall score = ', recall_acc)\n",
    "\n",
    "        # The mean value of those recall and auc scores is the metric we want to save and get hold of.\n",
    "        results_table.ix[j,'Mean recall score'] = np.mean(recall_accs)\n",
    "        j += 1\n",
    "        print ''\n",
    "        print 'Mean recall score ', np.mean(recall_accs)\n",
    "        print ''\n",
    "        \n",
    "    best_c = results_table.loc[results_table['Mean recall score'].idxmax()]['C_parameter']\n",
    "    \n",
    "    # Finally, we can check which C parameter is the best amongst the chosen.\n",
    "    print '*********************************************************************************'\n",
    "    print 'Best model to choose from cross validation is with C parameter = ', best_c\n",
    "    print '*********************************************************************************'\n",
    "    \n",
    "    return best_c"
   ]
  },
  {
   "cell_type": "code",
   "execution_count": 48,
   "metadata": {
    "collapsed": false
   },
   "outputs": [
    {
     "name": "stdout",
     "output_type": "stream",
     "text": [
      "-------------------------------------------\n",
      "C parameter:  0.01\n",
      "-------------------------------------------\n",
      "\n",
      "('Iteration ', 1, ': recall score = ', 0.90000000000000002)\n",
      "('Iteration ', 2, ': recall score = ', 0.93506493506493504)\n",
      "('Iteration ', 3, ': recall score = ', 0.91891891891891897)\n",
      "('Iteration ', 4, ': recall score = ', 0.92307692307692313)\n",
      "('Iteration ', 5, ': recall score = ', 0.83333333333333337)\n",
      "\n",
      "Mean recall score  0.902078822079\n",
      "\n",
      "-------------------------------------------\n",
      "C parameter:  0.1\n",
      "-------------------------------------------\n",
      "\n",
      "('Iteration ', 1, ': recall score = ', 0.88571428571428568)\n",
      "('Iteration ', 2, ': recall score = ', 0.93506493506493504)\n",
      "('Iteration ', 3, ': recall score = ', 0.91891891891891897)\n",
      "('Iteration ', 4, ': recall score = ', 0.93846153846153846)\n",
      "('Iteration ', 5, ': recall score = ', 0.84848484848484851)\n",
      "\n",
      "Mean recall score  0.905328905329\n",
      "\n",
      "-------------------------------------------\n",
      "C parameter:  1\n",
      "-------------------------------------------\n",
      "\n",
      "('Iteration ', 1, ': recall score = ', 0.88571428571428568)\n",
      "('Iteration ', 2, ': recall score = ', 0.93506493506493504)\n",
      "('Iteration ', 3, ': recall score = ', 0.91891891891891897)\n",
      "('Iteration ', 4, ': recall score = ', 0.92307692307692313)\n",
      "('Iteration ', 5, ': recall score = ', 0.86363636363636365)\n",
      "\n",
      "Mean recall score  0.905282285282\n",
      "\n",
      "-------------------------------------------\n",
      "C parameter:  10\n",
      "-------------------------------------------\n",
      "\n",
      "('Iteration ', 1, ': recall score = ', 0.87142857142857144)\n",
      "('Iteration ', 2, ': recall score = ', 0.93506493506493504)\n",
      "('Iteration ', 3, ': recall score = ', 0.91891891891891897)\n",
      "('Iteration ', 4, ': recall score = ', 0.93846153846153846)\n",
      "('Iteration ', 5, ': recall score = ', 0.84848484848484851)\n",
      "\n",
      "Mean recall score  0.902471762472\n",
      "\n",
      "-------------------------------------------\n",
      "C parameter:  100\n",
      "-------------------------------------------\n",
      "\n",
      "('Iteration ', 1, ': recall score = ', 0.87142857142857144)\n",
      "('Iteration ', 2, ': recall score = ', 0.93506493506493504)\n",
      "('Iteration ', 3, ': recall score = ', 0.91891891891891897)\n",
      "('Iteration ', 4, ': recall score = ', 0.93846153846153846)\n",
      "('Iteration ', 5, ': recall score = ', 0.87878787878787878)\n",
      "\n",
      "Mean recall score  0.908532368532\n",
      "\n",
      "*********************************************************************************\n",
      "Best model to choose from cross validation is with C parameter =  100.0\n",
      "*********************************************************************************\n"
     ]
    }
   ],
   "source": [
    "best_c = printing_Kfold_scores(X_train_undersample,y_train_undersample)"
   ]
  },
  {
   "cell_type": "markdown",
   "metadata": {},
   "source": [
    "**Here we see that the Mean recall score for the default C parameter (1.0) is 90.52% whereas for the best C parameter (100.0) is 90.85%. Hence we shall optimize our model and instead of using the default C parameter, we shall use the best C parameter.**"
   ]
  },
  {
   "cell_type": "code",
   "execution_count": 49,
   "metadata": {
    "collapsed": false
   },
   "outputs": [
    {
     "name": "stdout",
     "output_type": "stream",
     "text": [
      "Recall metric in the testing dataset:  0.942857142857\n"
     ]
    }
   ],
   "source": [
    "# Use this C_parameter to build the final model with the whole training dataset and predict the classes in the test\n",
    "# dataset\n",
    "svc = LinearSVC(C = best_c, penalty = 'l1', dual = False, random_state = 43)\n",
    "svc.fit(X_train_undersample, y_train_undersample.values.ravel())\n",
    "y_pred_undersample = svc.predict(X_test_undersample.values)\n",
    "\n",
    "# Compute confusion matrix\n",
    "cnf_matrix = confusion_matrix(y_test_undersample, y_pred_undersample)\n",
    "np.set_printoptions(precision = 2)\n",
    "\n",
    "print \"Recall metric in the testing dataset: \", cnf_matrix[1,1] / float ((cnf_matrix[1,0]+cnf_matrix[1,1]))"
   ]
  },
  {
   "cell_type": "markdown",
   "metadata": {},
   "source": [
    "**Thus we see the model offers a Recall score of 94.28% on the Undersampled test set! Now lets try this on the total test set.**"
   ]
  },
  {
   "cell_type": "code",
   "execution_count": 50,
   "metadata": {
    "collapsed": false
   },
   "outputs": [
    {
     "name": "stdout",
     "output_type": "stream",
     "text": [
      "Recall metric in the testing dataset:  0.925170068027\n"
     ]
    }
   ],
   "source": [
    "# Use this C_parameter to build the final model with the whole training dataset and predict the classes in the test\n",
    "# dataset\n",
    "svc = LinearSVC(C = best_c, penalty = 'l1', dual = False, random_state = 43)\n",
    "svc.fit(X_train_undersample, y_train_undersample.values.ravel())\n",
    "y_pred = svc.predict(X_test.values)\n",
    "\n",
    "# Compute confusion matrix\n",
    "cnf_matrix = confusion_matrix(y_test, y_pred)\n",
    "np.set_printoptions(precision = 2)\n",
    "\n",
    "print \"Recall metric in the testing dataset: \", cnf_matrix[1,1] / float ((cnf_matrix[1,0]+cnf_matrix[1,1]))"
   ]
  },
  {
   "cell_type": "markdown",
   "metadata": {},
   "source": [
    "### We can see that the Recall score of 92.51% is really good for a test set of the skewed data! Now in order to compare our results to the benchmark model, we also need to compute the AUC scores."
   ]
  },
  {
   "cell_type": "markdown",
   "metadata": {},
   "source": [
    "** Calculating the AUC scores. **"
   ]
  },
  {
   "cell_type": "code",
   "execution_count": 51,
   "metadata": {
    "collapsed": false
   },
   "outputs": [
    {
     "data": {
      "image/png": "[encoded data removed]",
      "text/plain": [
       "<matplotlib.figure.Figure at 0x99e64e0>"
      ]
     },
     "metadata": {},
     "output_type": "display_data"
    }
   ],
   "source": [
    "# ROC CURVE\n",
    "svc = LinearSVC(C = best_c, penalty = 'l1', dual = False, random_state = 43)\n",
    "y_pred_undersample_score = svc.fit(X_train_undersample,y_train_undersample.values.ravel()).decision_function(X_test_undersample.values)\n",
    "\n",
    "fpr, tpr, thresholds = roc_curve(y_test_undersample.values.ravel(),y_pred_undersample_score)\n",
    "roc_auc = auc(fpr,tpr)\n",
    "\n",
    "# Plot ROC\n",
    "plt.title('Receiver Operating Characteristic')\n",
    "plt.plot(fpr, tpr, 'b',label='AUC = %0.2f'% roc_auc)\n",
    "plt.legend(loc='lower right')\n",
    "plt.plot([0,1],[0,1],'r--')\n",
    "plt.xlim([-0.1,1.0])\n",
    "plt.ylim([-0.1,1.01])\n",
    "plt.ylabel('True Positive Rate')\n",
    "plt.xlabel('False Positive Rate')\n",
    "plt.show()"
   ]
  },
  {
   "cell_type": "markdown",
   "metadata": {},
   "source": [
    "**Thus, we get AUC scores of 99% when training as well as testing is done on the undersampled data test set. Now lets try testing this on the testing set of the skewed data.**"
   ]
  },
  {
   "cell_type": "code",
   "execution_count": 52,
   "metadata": {
    "collapsed": false
   },
   "outputs": [
    {
     "data": {
      "image/png": "[encoded data removed]",
      "text/plain": [
       "<matplotlib.figure.Figure at 0xb8076a0>"
      ]
     },
     "metadata": {},
     "output_type": "display_data"
    }
   ],
   "source": [
    "# ROC CURVE\n",
    "svc = LinearSVC(C = best_c, penalty = 'l1', dual = False, random_state = 43)\n",
    "y_pred_undersample_score = svc.fit(X_train_undersample,y_train_undersample.values.ravel()).decision_function(X_test.values)\n",
    "\n",
    "fpr, tpr, thresholds = roc_curve(y_test.values.ravel(),y_pred_undersample_score)\n",
    "roc_auc = auc(fpr,tpr)\n",
    "\n",
    "# Plot ROC\n",
    "plt.title('Receiver Operating Characteristic')\n",
    "plt.plot(fpr, tpr, 'b',label='AUC = %0.2f'% roc_auc)\n",
    "plt.legend(loc='lower right')\n",
    "plt.plot([0,1],[0,1],'r--')\n",
    "plt.xlim([-0.1,1.0])\n",
    "plt.ylim([-0.1,1.01])\n",
    "plt.ylabel('True Positive Rate')\n",
    "plt.xlabel('False Positive Rate')\n",
    "plt.show()"
   ]
  },
  {
   "cell_type": "markdown",
   "metadata": {},
   "source": [
    "** Here, we get AUC scores of 98% when testing is done on the skewed data test set! This is more than the 85% of our benchmark model although, the training here is done on the undersampled dataset and cannot be considered a true result for comparison.**"
   ]
  },
  {
   "cell_type": "markdown",
   "metadata": {},
   "source": [
    "## Implementation (LinearSVC) - Training and Testing models on Skewed data"
   ]
  },
  {
   "cell_type": "markdown",
   "metadata": {},
   "source": [
    "**Now that we know that our approach works, let us try the same approach on the skewed data.** We know that the skewed data shall introduce two new complexities:\n",
    "- **Space**: The original skewed dataset is huge when compared to the undersampled dataset and hence, in sheer size, it is more complex.\n",
    "- **Skewedness**: This is the primary problem that we are aware of. The data imbalance shall affect the performance of the model too.\n",
    "\n",
    "Lets see how things work out."
   ]
  },
  {
   "cell_type": "code",
   "execution_count": 53,
   "metadata": {
    "collapsed": false
   },
   "outputs": [
    {
     "name": "stdout",
     "output_type": "stream",
     "text": [
      "-------------------------------------------\n",
      "C parameter:  0.01\n",
      "-------------------------------------------\n",
      "\n",
      "('Iteration ', 1, ': recall score = ', 0.58208955223880599)\n",
      "('Iteration ', 2, ': recall score = ', 0.58904109589041098)\n",
      "('Iteration ', 3, ': recall score = ', 0.6333333333333333)\n",
      "('Iteration ', 4, ': recall score = ', 0.63076923076923075)\n",
      "('Iteration ', 5, ': recall score = ', 0.47499999999999998)\n",
      "\n",
      "Mean recall score  0.582046642446\n",
      "\n",
      "-------------------------------------------\n",
      "C parameter:  0.1\n",
      "-------------------------------------------\n",
      "\n",
      "('Iteration ', 1, ': recall score = ', 0.58208955223880599)\n",
      "('Iteration ', 2, ': recall score = ', 0.60273972602739723)\n",
      "('Iteration ', 3, ': recall score = ', 0.65000000000000002)\n",
      "('Iteration ', 4, ': recall score = ', 0.63076923076923075)\n",
      "('Iteration ', 5, ': recall score = ', 0.48749999999999999)\n",
      "\n",
      "Mean recall score  0.590619701807\n",
      "\n",
      "-------------------------------------------\n",
      "C parameter:  1\n",
      "-------------------------------------------\n",
      "\n",
      "('Iteration ', 1, ': recall score = ', 0.58208955223880599)\n",
      "('Iteration ', 2, ': recall score = ', 0.60273972602739723)\n",
      "('Iteration ', 3, ': recall score = ', 0.65000000000000002)\n",
      "('Iteration ', 4, ': recall score = ', 0.63076923076923075)\n",
      "('Iteration ', 5, ': recall score = ', 0.48749999999999999)\n",
      "\n",
      "Mean recall score  0.590619701807\n",
      "\n",
      "-------------------------------------------\n",
      "C parameter:  10\n",
      "-------------------------------------------\n",
      "\n",
      "('Iteration ', 1, ': recall score = ', 0.58208955223880599)\n",
      "('Iteration ', 2, ': recall score = ', 0.60273972602739723)\n",
      "('Iteration ', 3, ': recall score = ', 0.65000000000000002)\n",
      "('Iteration ', 4, ': recall score = ', 0.63076923076923075)\n",
      "('Iteration ', 5, ': recall score = ', 0.48749999999999999)\n",
      "\n",
      "Mean recall score  0.590619701807\n",
      "\n",
      "-------------------------------------------\n",
      "C parameter:  100\n",
      "-------------------------------------------\n",
      "\n",
      "('Iteration ', 1, ': recall score = ', 0.58208955223880599)\n",
      "('Iteration ', 2, ': recall score = ', 0.60273972602739723)\n",
      "('Iteration ', 3, ': recall score = ', 0.65000000000000002)\n",
      "('Iteration ', 4, ': recall score = ', 0.63076923076923075)\n",
      "('Iteration ', 5, ': recall score = ', 0.48749999999999999)\n",
      "\n",
      "Mean recall score  0.590619701807\n",
      "\n",
      "*********************************************************************************\n",
      "Best model to choose from cross validation is with C parameter =  0.1\n",
      "*********************************************************************************\n"
     ]
    }
   ],
   "source": [
    "best_c = printing_Kfold_scores(X_train,y_train)"
   ]
  },
  {
   "cell_type": "code",
   "execution_count": 54,
   "metadata": {
    "collapsed": false
   },
   "outputs": [
    {
     "name": "stdout",
     "output_type": "stream",
     "text": [
      "Recall metric in the testing dataset:  0.591836734694\n"
     ]
    }
   ],
   "source": [
    "# Use this C_parameter to build the final model with the whole training dataset and predict the classes in the test\n",
    "# dataset\n",
    "svc = LinearSVC(C = best_c, penalty = 'l1', dual = False, random_state = 43)\n",
    "svc.fit(X_train,y_train.values.ravel())\n",
    "y_pred_undersample = svc.predict(X_test.values)\n",
    "\n",
    "# Compute confusion matrix\n",
    "cnf_matrix = confusion_matrix(y_test,y_pred_undersample)\n",
    "np.set_printoptions(precision=2)\n",
    "\n",
    "print \"Recall metric in the testing dataset: \", cnf_matrix[1,1] / float ((cnf_matrix[1,0]+cnf_matrix[1,1]))"
   ]
  },
  {
   "cell_type": "markdown",
   "metadata": {
    "collapsed": true
   },
   "source": [
    "**We see how training on the raw skewed data severely reduces our Recall metric from 92.51% to a mere 59.18%. **"
   ]
  },
  {
   "cell_type": "code",
   "execution_count": 67,
   "metadata": {
    "collapsed": false
   },
   "outputs": [
    {
     "data": {
      "image/png": "[encoded data removed]",
      "text/plain": [
       "<matplotlib.figure.Figure at 0x105809e8>"
      ]
     },
     "metadata": {},
     "output_type": "display_data"
    }
   ],
   "source": [
    "# ROC CURVE\n",
    "svc = LinearSVC(C = best_c, penalty = 'l1', dual = False, random_state = 43)\n",
    "y_pred_score = svc.fit(X_train,y_train.values.ravel()).decision_function(X_test.values)\n",
    "\n",
    "fpr, tpr, thresholds = roc_curve(y_test.values.ravel(),y_pred_score)\n",
    "roc_auc = auc(fpr,tpr)\n",
    "\n",
    "# Plot ROC\n",
    "plt.title('Receiver Operating Characteristic')\n",
    "plt.plot(fpr, tpr, 'b',label='AUC = %0.2f'% roc_auc)\n",
    "plt.legend(loc='lower right')\n",
    "plt.plot([0,1],[0,1],'r--')\n",
    "plt.xlim([-0.1,1.0])\n",
    "plt.ylim([-0.1,1.01])\n",
    "plt.ylabel('True Positive Rate')\n",
    "plt.xlabel('False Positive Rate')\n",
    "plt.show()"
   ]
  },
  {
   "cell_type": "markdown",
   "metadata": {},
   "source": [
    "** This is the AUC score of 96% that we shall compare against the Benchmark's AUC score of 85% as here both the training and the testing has been done on the raw data's train and test set. Let us now try this entire implementation procedure with the SGDClassifier() to see it performs any better.**"
   ]
  },
  {
   "cell_type": "markdown",
   "metadata": {},
   "source": [
    "## Implementation (SGDClassifier) - Training and Testing models on Undersampled data"
   ]
  },
  {
   "cell_type": "code",
   "execution_count": 55,
   "metadata": {
    "collapsed": true
   },
   "outputs": [],
   "source": [
    "from sklearn.linear_model import SGDClassifier"
   ]
  },
  {
   "cell_type": "markdown",
   "metadata": {},
   "source": [
    "**Writing a function to print K-fold scores to get the best loss parameter to implement the SGDClassifier model.**"
   ]
  },
  {
   "cell_type": "code",
   "execution_count": 71,
   "metadata": {
    "collapsed": false
   },
   "outputs": [],
   "source": [
    "def printing_Kfold_scores_SGD(x_train_data, y_train_data):\n",
    "    fold = KFold(len(y_train_data), 5, shuffle = False) \n",
    "\n",
    "    # Different Loss\n",
    "    loss_range = ['hinge', 'log', 'modified_huber', 'squared_hinge', 'perceptron', 'squared_loss', 'huber', 'epsilon_insensitive','squared_epsilon_insensitive']\n",
    "\n",
    "    results_table = pd.DataFrame(index = range(len(loss_range),2), columns = ['Loss', 'Mean recall score'])\n",
    "    results_table['Loss'] = loss_range\n",
    "\n",
    "    # the k-fold will give 2 lists: train_indices = indices[0], test_indices = indices[1]\n",
    "    j = 0\n",
    "    for loss_rate in loss_range:\n",
    "        print '-------------------------------------------'\n",
    "        print 'Loss: ', loss_rate\n",
    "        print '-------------------------------------------'\n",
    "        print ''\n",
    "\n",
    "        recall_accs = []\n",
    "        for iteration, indices in enumerate(fold,start=1):\n",
    "\n",
    "            # Call the SGDClassifier with a certain learning_rate\n",
    "            sgd = SGDClassifier(loss = loss_rate, penalty = 'l1', eta0 = 0.1, random_state = 43)\n",
    "            # Use the training data to fit the model. In this case, we use the portion of the fold to train the model\n",
    "            # with indices[0]. We then predict on the portion assigned as the 'test cross validation' with indices[1]\n",
    "            sgd.fit(x_train_data.iloc[indices[0],:],y_train_data.iloc[indices[0],:].values.ravel())\n",
    "\n",
    "            # Predict values using the test indices in the training data\n",
    "            y_pred_undersample = sgd.predict(x_train_data.iloc[indices[1],:].values)\n",
    "\n",
    "            # Calculate the recall score and append it to a list for recall scores representing the current c_parameter\n",
    "            recall_acc = recall_score(y_train_data.iloc[indices[1],:].values,y_pred_undersample)\n",
    "            recall_accs.append(recall_acc)\n",
    "            print('Iteration ', iteration,': recall score = ', recall_acc)\n",
    "\n",
    "        # The mean value of those recall and auc scores is the metric we want to save and get hold of.\n",
    "        results_table.ix[j,'Mean recall score'] = np.mean(recall_accs)\n",
    "        j += 1\n",
    "        print ''\n",
    "        print 'Mean recall score ', np.mean(recall_accs)\n",
    "        print ''\n",
    "        \n",
    "    best_loss = results_table.loc[results_table['Mean recall score'].idxmax()]['Loss']\n",
    "    \n",
    "    # Finally, we can check which Learning rate is the best amongst the chosen.\n",
    "    print '*********************************************************************************'\n",
    "    print 'Best model to choose from cross validation is with Loss = ', best_loss\n",
    "    print '*********************************************************************************'\n",
    "    \n",
    "    return best_loss"
   ]
  },
  {
   "cell_type": "code",
   "execution_count": 72,
   "metadata": {
    "collapsed": false
   },
   "outputs": [
    {
     "name": "stdout",
     "output_type": "stream",
     "text": [
      "-------------------------------------------\n",
      "Loss:  hinge\n",
      "-------------------------------------------\n",
      "\n",
      "('Iteration ', 1, ': recall score = ', 0.88571428571428568)\n",
      "('Iteration ', 2, ': recall score = ', 0.94805194805194803)\n",
      "('Iteration ', 3, ': recall score = ', 0.91891891891891897)\n",
      "('Iteration ', 4, ': recall score = ', 0.9538461538461539)\n",
      "('Iteration ', 5, ': recall score = ', 0.89393939393939392)\n",
      "\n",
      "Mean recall score  0.920094140094\n",
      "\n",
      "-------------------------------------------\n",
      "Loss:  log\n",
      "-------------------------------------------\n",
      "\n",
      "('Iteration ', 1, ': recall score = ', 0.88571428571428568)\n",
      "('Iteration ', 2, ': recall score = ', 0.93506493506493504)\n",
      "('Iteration ', 3, ': recall score = ', 0.91891891891891897)\n",
      "('Iteration ', 4, ': recall score = ', 0.93846153846153846)\n",
      "('Iteration ', 5, ': recall score = ', 0.89393939393939392)\n",
      "\n",
      "Mean recall score  0.91441981442\n",
      "\n",
      "-------------------------------------------\n",
      "Loss:  modified_huber\n",
      "-------------------------------------------\n",
      "\n",
      "('Iteration ', 1, ': recall score = ', 0.90000000000000002)\n",
      "('Iteration ', 2, ': recall score = ', 0.93506493506493504)\n",
      "('Iteration ', 3, ': recall score = ', 0.93243243243243246)\n",
      "('Iteration ', 4, ': recall score = ', 0.92307692307692313)\n",
      "('Iteration ', 5, ': recall score = ', 0.89393939393939392)\n",
      "\n",
      "Mean recall score  0.916902736903\n",
      "\n",
      "-------------------------------------------\n",
      "Loss:  squared_hinge\n",
      "-------------------------------------------\n",
      "\n",
      "('Iteration ', 1, ': recall score = ', 0.90000000000000002)\n",
      "('Iteration ', 2, ': recall score = ', 0.94805194805194803)\n",
      "('Iteration ', 3, ': recall score = ', 0.91891891891891897)\n",
      "('Iteration ', 4, ': recall score = ', 0.96923076923076923)\n",
      "('Iteration ', 5, ': recall score = ', 0.87878787878787878)\n",
      "\n",
      "Mean recall score  0.922997902998\n",
      "\n",
      "-------------------------------------------\n",
      "Loss:  perceptron\n",
      "-------------------------------------------\n",
      "\n",
      "('Iteration ', 1, ': recall score = ', 0.88571428571428568)\n",
      "('Iteration ', 2, ': recall score = ', 0.94805194805194803)\n",
      "('Iteration ', 3, ': recall score = ', 0.91891891891891897)\n",
      "('Iteration ', 4, ': recall score = ', 0.92307692307692313)\n",
      "('Iteration ', 5, ': recall score = ', 0.93939393939393945)\n",
      "\n",
      "Mean recall score  0.923031203031\n",
      "\n",
      "-------------------------------------------\n",
      "Loss:  squared_loss\n",
      "-------------------------------------------\n",
      "\n",
      "('Iteration ', 1, ': recall score = ', 0.98571428571428577)\n",
      "('Iteration ', 2, ': recall score = ', 0.42857142857142855)\n",
      "('Iteration ', 3, ': recall score = ', 0.067567567567567571)\n",
      "('Iteration ', 4, ': recall score = ', 0.86153846153846159)\n",
      "('Iteration ', 5, ': recall score = ', 0.83333333333333337)\n",
      "\n",
      "Mean recall score  0.635345015345\n",
      "\n",
      "-------------------------------------------\n",
      "Loss:  huber\n",
      "-------------------------------------------\n",
      "\n",
      "('Iteration ', 1, ': recall score = ', 0.11428571428571428)\n",
      "('Iteration ', 2, ': recall score = ', 0.54545454545454541)\n",
      "('Iteration ', 3, ': recall score = ', 0.90540540540540537)\n",
      "('Iteration ', 4, ': recall score = ', 0.1076923076923077)\n",
      "('Iteration ', 5, ': recall score = ', 0.51515151515151514)\n",
      "\n",
      "Mean recall score  0.437597897598\n",
      "\n",
      "-------------------------------------------\n",
      "Loss:  epsilon_insensitive\n",
      "-------------------------------------------\n",
      "\n",
      "('Iteration ', 1, ': recall score = ', 0.11428571428571428)\n",
      "('Iteration ', 2, ': recall score = ', 0.41558441558441561)\n",
      "('Iteration ', 3, ': recall score = ', 0.77027027027027029)\n",
      "('Iteration ', 4, ': recall score = ', 0.16923076923076924)\n",
      "('Iteration ', 5, ': recall score = ', 0.66666666666666663)\n",
      "\n",
      "Mean recall score  0.427207567208\n",
      "\n",
      "-------------------------------------------\n",
      "Loss:  squared_epsilon_insensitive\n",
      "-------------------------------------------\n",
      "\n",
      "('Iteration ', 1, ': recall score = ', 0.071428571428571425)\n",
      "('Iteration ', 2, ': recall score = ', 0.42857142857142855)\n",
      "('Iteration ', 3, ': recall score = ', 0.83783783783783783)\n",
      "('Iteration ', 4, ': recall score = ', 0.92307692307692313)\n",
      "('Iteration ', 5, ': recall score = ', 0.31818181818181818)\n",
      "\n",
      "Mean recall score  0.515819315819\n",
      "\n",
      "*********************************************************************************\n",
      "Best model to choose from cross validation is with Loss =  perceptron\n",
      "*********************************************************************************\n"
     ]
    }
   ],
   "source": [
    "best_loss = printing_Kfold_scores_SGD(X_train_undersample,y_train_undersample)"
   ]
  },
  {
   "cell_type": "markdown",
   "metadata": {},
   "source": [
    "**Here we see that the Mean recall score for the default loss function (`'hinge'`) is 90.85% whereas for the best loss (`'perceptron'`) is 92.30%. We have also analyzed all the other loss functions to compare them and have finally settled with `log` loss function. Hence we shall optimize our model and instead of using the default loss function, we shall use the best loss function.**"
   ]
  },
  {
   "cell_type": "code",
   "execution_count": 58,
   "metadata": {
    "collapsed": false
   },
   "outputs": [
    {
     "name": "stdout",
     "output_type": "stream",
     "text": [
      "Recall metric in the testing dataset:  0.907142857143\n"
     ]
    }
   ],
   "source": [
    "# Use this loss function to build the final model with the whole training dataset and predict the classes in the test\n",
    "# dataset\n",
    "sgd = SGDClassifier(loss = best_loss, penalty = 'l1', eta0 = 0.1, random_state = 43)\n",
    "sgd.fit(X_train_undersample, y_train_undersample.values.ravel())\n",
    "y_pred_undersample = sgd.predict(X_test_undersample.values)\n",
    "\n",
    "# Compute confusion matrix\n",
    "cnf_matrix = confusion_matrix(y_test_undersample, y_pred_undersample)\n",
    "np.set_printoptions(precision = 2)\n",
    "\n",
    "print \"Recall metric in the testing dataset: \", cnf_matrix[1,1] / float ((cnf_matrix[1,0]+cnf_matrix[1,1]))"
   ]
  },
  {
   "cell_type": "markdown",
   "metadata": {},
   "source": [
    "**Thus we see the model offers a Recall score of 90.71% on the Undersampled test set! This is lower than the Recall score of 94.28% that our LinearSVC model was providing. Now lets try this on the total test set.**"
   ]
  },
  {
   "cell_type": "code",
   "execution_count": 59,
   "metadata": {
    "collapsed": false
   },
   "outputs": [
    {
     "name": "stdout",
     "output_type": "stream",
     "text": [
      "Recall metric in the testing dataset:  0.884353741497\n"
     ]
    }
   ],
   "source": [
    "# Use this loss function to build the final model with the whole training dataset and predict the classes in the test\n",
    "# dataset\n",
    "sgd = SGDClassifier(loss = best_loss, penalty = 'l1', eta0 = 0.1, random_state = 43)\n",
    "sgd.fit(X_train_undersample, y_train_undersample.values.ravel())\n",
    "y_pred = sgd.predict(X_test.values)\n",
    "\n",
    "# Compute confusion matrix\n",
    "cnf_matrix = confusion_matrix(y_test, y_pred)\n",
    "np.set_printoptions(precision = 2)\n",
    "\n",
    "print \"Recall metric in the testing dataset: \", cnf_matrix[1,1] / float ((cnf_matrix[1,0]+cnf_matrix[1,1]))"
   ]
  },
  {
   "cell_type": "markdown",
   "metadata": {},
   "source": [
    "### We can see that the Recall score of 88.43% is really good for a test set of the skewed data although this is lesser than the Recall score of 92.51% that the LinearSVC model was providing! Now in order to compare our results to the benchmark model, we also need to compute the AUC scores."
   ]
  },
  {
   "cell_type": "markdown",
   "metadata": {},
   "source": [
    "**Calculating AUC scores.**"
   ]
  },
  {
   "cell_type": "code",
   "execution_count": 60,
   "metadata": {
    "collapsed": false
   },
   "outputs": [
    {
     "data": {
      "image/png": "[encoded data removed]",
      "text/plain": [
       "<matplotlib.figure.Figure at 0x132bcc18>"
      ]
     },
     "metadata": {},
     "output_type": "display_data"
    }
   ],
   "source": [
    "# ROC CURVE\n",
    "sgd = SGDClassifier(loss = best_loss, penalty = 'l1', eta0 = 0.1, random_state = 43)\n",
    "y_pred_undersample_score = sgd.fit(X_train_undersample,y_train_undersample.values.ravel()).decision_function(X_test_undersample.values)\n",
    "\n",
    "fpr, tpr, thresholds = roc_curve(y_test_undersample.values.ravel(),y_pred_undersample_score)\n",
    "roc_auc = auc(fpr,tpr)\n",
    "\n",
    "# Plot ROC\n",
    "plt.title('Receiver Operating Characteristic')\n",
    "plt.plot(fpr, tpr, 'b',label='AUC = %0.2f'% roc_auc)\n",
    "plt.legend(loc='lower right')\n",
    "plt.plot([0,1],[0,1],'r--')\n",
    "plt.xlim([-0.1,1.0])\n",
    "plt.ylim([-0.1,1.01])\n",
    "plt.ylabel('True Positive Rate')\n",
    "plt.xlabel('False Positive Rate')\n",
    "plt.show()"
   ]
  },
  {
   "cell_type": "markdown",
   "metadata": {},
   "source": [
    "**Thus, we get AUC scores of 97% when training as well as testing is done on the undersampled data test set! These scores are _slightly_ less then the LinearSVC scores of 99% on the undersampled data test set although they're still good scores. Now lets try testing this on the testing set of the skewed data.**"
   ]
  },
  {
   "cell_type": "code",
   "execution_count": 62,
   "metadata": {
    "collapsed": false
   },
   "outputs": [
    {
     "data": {
      "image/png": "[encoded data removed]",
      "text/plain": [
       "<matplotlib.figure.Figure at 0x105f4cc0>"
      ]
     },
     "metadata": {},
     "output_type": "display_data"
    }
   ],
   "source": [
    "# ROC CURVE\n",
    "sgd = SGDClassifier(loss = best_loss, penalty = 'l1', eta0 = 0.1, random_state = 43)\n",
    "y_pred_undersample_score = sgd.fit(X_train_undersample,y_train_undersample.values.ravel()).decision_function(X_test.values)\n",
    "\n",
    "fpr, tpr, thresholds = roc_curve(y_test.values.ravel(),y_pred_undersample_score)\n",
    "roc_auc = auc(fpr,tpr)\n",
    "\n",
    "# Plot ROC\n",
    "plt.title('Receiver Operating Characteristic')\n",
    "plt.plot(fpr, tpr, 'b',label='AUC = %0.2f'% roc_auc)\n",
    "plt.legend(loc='lower right')\n",
    "plt.plot([0,1],[0,1],'r--')\n",
    "plt.xlim([-0.1,1.0])\n",
    "plt.ylim([-0.1,1.01])\n",
    "plt.ylabel('True Positive Rate')\n",
    "plt.xlabel('False Positive Rate')\n",
    "plt.show()"
   ]
  },
  {
   "cell_type": "markdown",
   "metadata": {},
   "source": [
    "**Although the AUC score for SGDClassifier of 97% fall just one percent below the LinearSVC classifier AUC score of 98%, our AUC scores for the skewed dataset can still be considered as good! **"
   ]
  },
  {
   "cell_type": "markdown",
   "metadata": {
    "collapsed": true
   },
   "source": [
    "## Implementation (SGDClassifier) - Training and Testing models on Skewed data"
   ]
  },
  {
   "cell_type": "markdown",
   "metadata": {},
   "source": [
    "We implemented the LinearSVC model on the entire raw dataset and we sall how drastically the imbalance affected the recall scores as they fell from **92.51% to a mere 59.18%**. We should expect the same here. Let's see how much it affects our scores, though."
   ]
  },
  {
   "cell_type": "code",
   "execution_count": 63,
   "metadata": {
    "collapsed": false
   },
   "outputs": [
    {
     "name": "stdout",
     "output_type": "stream",
     "text": [
      "-------------------------------------------\n",
      "Loss:  hinge\n",
      "-------------------------------------------\n",
      "\n",
      "('Iteration ', 1, ': recall score = ', 0.74626865671641796, ': auc score = ', 0.87295847547170946)\n",
      "('Iteration ', 2, ': recall score = ', 0.67123287671232879, ': auc score = ', 0.83546568458732018)\n",
      "('Iteration ', 3, ': recall score = ', 0.69999999999999996, ': auc score = ', 0.84983673674427962)\n",
      "('Iteration ', 4, ': recall score = ', 0.70769230769230773, ': auc score = ', 0.85368287008409605)\n",
      "('Iteration ', 5, ': recall score = ', 0.6875, ': auc score = ', 0.84361178126256542)\n",
      "\n",
      "Mean recall score  0.702538768224\n",
      "\n",
      "\n",
      "Mean auc score  0.85111110963\n",
      "\n",
      "-------------------------------------------\n",
      "Loss:  log\n",
      "-------------------------------------------\n",
      "\n",
      "('Iteration ', 1, ': recall score = ', 0.76119402985074625, ': auc score = ', 0.88043372295933786)\n",
      "('Iteration ', 2, ': recall score = ', 0.64383561643835618, ': auc score = ', 0.82177961726440429)\n",
      "('Iteration ', 3, ': recall score = ', 0.69999999999999996, ': auc score = ', 0.84983673674427962)\n",
      "('Iteration ', 4, ': recall score = ', 0.67692307692307696, ': auc score = ', 0.83829825469948061)\n",
      "('Iteration ', 5, ': recall score = ', 0.77500000000000002, ': auc score = ', 0.88737434660233216)\n",
      "\n",
      "Mean recall score  0.711390544642\n",
      "\n",
      "\n",
      "Mean auc score  0.855544535654\n",
      "\n",
      "-------------------------------------------\n",
      "Loss:  modified_huber\n",
      "-------------------------------------------\n",
      "\n",
      "('Iteration ', 1, ': recall score = ', 0.77611940298507465, ': auc score = ', 0.88787128768557355)\n",
      "('Iteration ', 2, ': recall score = ', 0.64383561643835618, ': auc score = ', 0.82184243133475599)\n",
      "('Iteration ', 3, ': recall score = ', 0.71666666666666667, ': auc score = ', 0.85817007007761292)\n",
      "('Iteration ', 4, ': recall score = ', 0.72307692307692306, ': auc score = ', 0.86133749690823658)\n",
      "('Iteration ', 5, ': recall score = ', 0.6875, ': auc score = ', 0.84358665058303173)\n",
      "\n",
      "Mean recall score  0.709439721833\n",
      "\n",
      "\n",
      "Mean auc score  0.854561587318\n",
      "\n",
      "-------------------------------------------\n",
      "Loss:  squared_hinge\n",
      "-------------------------------------------\n",
      "\n",
      "('Iteration ', 1, ': recall score = ', 0.74626865671641796, ': auc score = ', 0.87293335363078084)\n",
      "('Iteration ', 2, ': recall score = ', 0.65753424657534243, ': auc score = ', 0.82856611826254556)\n",
      "('Iteration ', 3, ': recall score = ', 0.66666666666666663, ': auc score = ', 0.83315751136563432)\n",
      "('Iteration ', 4, ': recall score = ', 0.67692307692307696, ': auc score = ', 0.83829825469948061)\n",
      "('Iteration ', 5, ': recall score = ', 0.75, ': auc score = ', 0.87489947728186568)\n",
      "\n",
      "Mean recall score  0.699478529376\n",
      "\n",
      "\n",
      "Mean auc score  0.849570943048\n",
      "\n",
      "-------------------------------------------\n",
      "Loss:  perceptron\n",
      "-------------------------------------------\n",
      "\n",
      "('Iteration ', 1, ': recall score = ', 0.74626865671641796, ': auc score = ', 0.87295847547170946)\n",
      "('Iteration ', 2, ': recall score = ', 0.67123287671232879, ': auc score = ', 0.83544055895917946)\n",
      "('Iteration ', 3, ': recall score = ', 0.69999999999999996, ': auc score = ', 0.84983673674427962)\n",
      "('Iteration ', 4, ': recall score = ', 0.69230769230769229, ': auc score = ', 0.84600312268117739)\n",
      "('Iteration ', 5, ': recall score = ', 0.6875, ': auc score = ', 0.84361178126256542)\n",
      "\n",
      "Mean recall score  0.699461845147\n",
      "\n",
      "\n",
      "Mean auc score  0.849570135024\n",
      "\n",
      "-------------------------------------------\n",
      "Loss:  squared_loss\n",
      "-------------------------------------------\n",
      "\n",
      "('Iteration ', 1, ': recall score = ', 0.85074626865671643, ': auc score = ', 0.63674830390078441)\n",
      "('Iteration ', 2, ': recall score = ', 0.16438356164383561, ': auc score = ', 0.30060886624905347)\n",
      "('Iteration ', 3, ': recall score = ', 0.93333333333333335, ': auc score = ', 0.75346997211965927)\n",
      "('Iteration ', 4, ': recall score = ', 0.90769230769230769, ': auc score = ', 0.75288152362107341)\n",
      "('Iteration ', 5, ': recall score = ', 0.14999999999999999, ': auc score = ', 0.37098914354644141)\n",
      "\n",
      "Mean recall score  0.601231094265\n",
      "\n",
      "\n",
      "Mean auc score  0.562939561887\n",
      "\n",
      "-------------------------------------------\n",
      "Loss:  huber\n",
      "-------------------------------------------\n",
      "\n",
      "('Iteration ', 1, ': recall score = ', 0.5074626865671642, ': auc score = ', 0.75363085591986811)\n",
      "('Iteration ', 2, ': recall score = ', 0.65753424657534243, ': auc score = ', 0.82866662077510844)\n",
      "('Iteration ', 3, ': recall score = ', 0.69999999999999996, ': auc score = ', 0.84988697159219351)\n",
      "('Iteration ', 4, ': recall score = ', 0.76923076923076927, ': auc score = ', 0.88448978172149384)\n",
      "('Iteration ', 5, ': recall score = ', 0.4375, ': auc score = ', 0.71869973864093284)\n",
      "\n",
      "Mean recall score  0.614345540475\n",
      "\n",
      "\n",
      "Mean auc score  0.80707479373\n",
      "\n",
      "-------------------------------------------\n",
      "Loss:  epsilon_insensitive\n",
      "-------------------------------------------\n",
      "\n",
      "('Iteration ', 1, ': recall score = ', 0.79104477611940294, ': auc score = ', 0.89491946387741739)\n",
      "('Iteration ', 2, ': recall score = ', 0.49315068493150682, ': auc score = ', 0.74649996558133136)\n",
      "('Iteration ', 3, ': recall score = ', 0.8666666666666667, ': auc score = ', 0.93318262878959135)\n",
      "('Iteration ', 4, ': recall score = ', 0.75384615384615383, ': auc score = ', 0.87510183496166205)\n",
      "('Iteration ', 5, ': recall score = ', 0.0, ': auc score = ', 0.5)\n",
      "\n",
      "Mean recall score  0.580941656313\n",
      "\n",
      "\n",
      "Mean auc score  0.789940778642\n",
      "\n",
      "-------------------------------------------\n",
      "Loss:  squared_epsilon_insensitive\n",
      "-------------------------------------------\n",
      "\n",
      "('Iteration ', 1, ': recall score = ', 0.82089552238805974, ': auc score = ', 0.64864049595763329)\n",
      "('Iteration ', 2, ': recall score = ', 0.9726027397260274, ': auc score = ', 0.72700488745095337)\n",
      "('Iteration ', 3, ': recall score = ', 0.11666666666666667, ': auc score = ', 0.33348215407027859)\n",
      "('Iteration ', 4, ': recall score = ', 0.98461538461538467, ': auc score = ', 0.76986496722730635)\n",
      "('Iteration ', 5, ': recall score = ', 0.16250000000000001, ': auc score = ', 0.34233262967430639)\n",
      "\n",
      "Mean recall score  0.611456062679\n",
      "\n",
      "\n",
      "Mean auc score  0.564265026876\n",
      "\n",
      "*********************************************************************************\n",
      "Best model to choose from cross validation is with Loss =  log\n",
      "*********************************************************************************\n"
     ]
    }
   ],
   "source": [
    "best_loss = printing_Kfold_scores_SGD(X_train,y_train)"
   ]
  },
  {
   "cell_type": "code",
   "execution_count": 64,
   "metadata": {
    "collapsed": false
   },
   "outputs": [
    {
     "name": "stdout",
     "output_type": "stream",
     "text": [
      "Recall metric in the testing dataset:  0.700680272109\n"
     ]
    }
   ],
   "source": [
    "# Use this loss function to build the final model with the whole training dataset and predict the classes in the test\n",
    "# dataset\n",
    "sgd = SGDClassifier(loss = best_loss, penalty = 'l1', eta0 = 0.1, random_state = 43)\n",
    "sgd.fit(X_train,y_train.values.ravel())\n",
    "y_pred_undersample = sgd.predict(X_test.values)\n",
    "\n",
    "# Compute confusion matrix\n",
    "cnf_matrix = confusion_matrix(y_test,y_pred_undersample)\n",
    "np.set_printoptions(precision=2)\n",
    "\n",
    "print \"Recall metric in the testing dataset: \", cnf_matrix[1,1] / float ((cnf_matrix[1,0]+cnf_matrix[1,1]))"
   ]
  },
  {
   "cell_type": "markdown",
   "metadata": {},
   "source": [
    "**Thus, we see the Recall score of 70.06% we get on the raw skewed dataset with SGDClassifier is way better than the Recall score of 59.18% that we get from the LinearSVC classifier.**"
   ]
  },
  {
   "cell_type": "code",
   "execution_count": 66,
   "metadata": {
    "collapsed": false
   },
   "outputs": [
    {
     "data": {
      "image/png": "[encoded data removed]",
      "text/plain": [
       "<matplotlib.figure.Figure at 0x2218a908>"
      ]
     },
     "metadata": {},
     "output_type": "display_data"
    }
   ],
   "source": [
    "# ROC CURVE\n",
    "sgd = SGDClassifier(loss = best_loss, penalty = 'l1', eta0 = 0.1, random_state = 43)\n",
    "y_pred_score = sgd.fit(X_train,y_train.values.ravel()).decision_function(X_test.values)\n",
    "\n",
    "fpr, tpr, thresholds = roc_curve(y_test.values.ravel(),y_pred_score)\n",
    "roc_auc = auc(fpr,tpr)\n",
    "\n",
    "# Plot ROC\n",
    "plt.title('Receiver Operating Characteristic')\n",
    "plt.plot(fpr, tpr, 'b',label='AUC = %0.2f'% roc_auc)\n",
    "plt.legend(loc='lower right')\n",
    "plt.plot([0,1],[0,1],'r--')\n",
    "plt.xlim([-0.1,1.0])\n",
    "plt.ylim([-0.1,1.01])\n",
    "plt.ylabel('True Positive Rate')\n",
    "plt.xlabel('False Positive Rate')\n",
    "plt.show()"
   ]
  },
  {
   "cell_type": "markdown",
   "metadata": {},
   "source": [
    "**This shall be the final AUC score of 88% that we shall compare against our Benchmark model's AUC score of 85% as this is completely tested using the raw dataset's train and test sets. It is slightly better than the Benchmark model's score.** "
   ]
  },
  {
   "cell_type": "code",
   "execution_count": null,
   "metadata": {
    "collapsed": true
   },
   "outputs": [],
   "source": []
  }
 ],
 "metadata": {
  "anaconda-cloud": {},
  "kernelspec": {
   "display_name": "Python [conda root]",
   "language": "python",
   "name": "conda-root-py"
  },
  "language_info": {
   "codemirror_mode": {
    "name": "ipython",
    "version": 2
   },
   "file_extension": ".py",
   "mimetype": "text/x-python",
   "name": "python",
   "nbconvert_exporter": "python",
   "pygments_lexer": "ipython2",
   "version": "2.7.12"
  }
 },
 "nbformat": 4,
 "nbformat_minor": 1
}
